{
  "nbformat": 4,
  "nbformat_minor": 0,
  "metadata": {
    "colab": {
      "name": "Flask_app.ipynb",
      "provenance": []
    },
    "kernelspec": {
      "name": "python3",
      "display_name": "Python 3"
    },
    "language_info": {
      "name": "python"
    },
    "accelerator": "GPU"
  },
  "cells": [
    {
      "cell_type": "markdown",
      "source": [
        "# Install requirements"
      ],
      "metadata": {
        "id": "gzOTOhX3iTzm"
      }
    },
    {
      "cell_type": "code",
      "source": [
        "!pip install flask_ngrok\n",
        "!pip install pyngrok"
      ],
      "metadata": {
        "id": "j47sSGxNvas1",
        "colab": {
          "base_uri": "https://localhost:8080/"
        },
        "outputId": "169e9915-bf67-4389-e866-1479fe74b03a"
      },
      "execution_count": 1,
      "outputs": [
        {
          "output_type": "stream",
          "name": "stdout",
          "text": [
            "Collecting flask_ngrok\n",
            "  Downloading flask_ngrok-0.0.25-py3-none-any.whl (3.1 kB)\n",
            "Requirement already satisfied: Flask>=0.8 in /usr/local/lib/python3.7/dist-packages (from flask_ngrok) (1.1.4)\n",
            "Requirement already satisfied: requests in /usr/local/lib/python3.7/dist-packages (from flask_ngrok) (2.23.0)\n",
            "Requirement already satisfied: click<8.0,>=5.1 in /usr/local/lib/python3.7/dist-packages (from Flask>=0.8->flask_ngrok) (7.1.2)\n",
            "Requirement already satisfied: itsdangerous<2.0,>=0.24 in /usr/local/lib/python3.7/dist-packages (from Flask>=0.8->flask_ngrok) (1.1.0)\n",
            "Requirement already satisfied: Jinja2<3.0,>=2.10.1 in /usr/local/lib/python3.7/dist-packages (from Flask>=0.8->flask_ngrok) (2.11.3)\n",
            "Requirement already satisfied: Werkzeug<2.0,>=0.15 in /usr/local/lib/python3.7/dist-packages (from Flask>=0.8->flask_ngrok) (1.0.1)\n",
            "Requirement already satisfied: MarkupSafe>=0.23 in /usr/local/lib/python3.7/dist-packages (from Jinja2<3.0,>=2.10.1->Flask>=0.8->flask_ngrok) (2.0.1)\n",
            "Requirement already satisfied: certifi>=2017.4.17 in /usr/local/lib/python3.7/dist-packages (from requests->flask_ngrok) (2021.10.8)\n",
            "Requirement already satisfied: urllib3!=1.25.0,!=1.25.1,<1.26,>=1.21.1 in /usr/local/lib/python3.7/dist-packages (from requests->flask_ngrok) (1.24.3)\n",
            "Requirement already satisfied: chardet<4,>=3.0.2 in /usr/local/lib/python3.7/dist-packages (from requests->flask_ngrok) (3.0.4)\n",
            "Requirement already satisfied: idna<3,>=2.5 in /usr/local/lib/python3.7/dist-packages (from requests->flask_ngrok) (2.10)\n",
            "Installing collected packages: flask-ngrok\n",
            "Successfully installed flask-ngrok-0.0.25\n",
            "Collecting pyngrok\n",
            "  Downloading pyngrok-5.1.0.tar.gz (745 kB)\n",
            "\u001b[K     |████████████████████████████████| 745 kB 5.2 MB/s \n",
            "\u001b[?25hRequirement already satisfied: PyYAML in /usr/local/lib/python3.7/dist-packages (from pyngrok) (3.13)\n",
            "Building wheels for collected packages: pyngrok\n",
            "  Building wheel for pyngrok (setup.py) ... \u001b[?25l\u001b[?25hdone\n",
            "  Created wheel for pyngrok: filename=pyngrok-5.1.0-py3-none-any.whl size=19007 sha256=e57b3227c552e046156cdb38f76bc3d2f7d6e74b20fcd6f260ea99241eb84b29\n",
            "  Stored in directory: /root/.cache/pip/wheels/bf/e6/af/ccf6598ecefecd44104069371795cb9b3afbcd16987f6ccfb3\n",
            "Successfully built pyngrok\n",
            "Installing collected packages: pyngrok\n",
            "Successfully installed pyngrok-5.1.0\n"
          ]
        }
      ]
    },
    {
      "cell_type": "code",
      "source": [
        "!pip install mmcv-full -f https://download.openmmlab.com/mmcv/dist/cu111/torch1.10.0/index.html"
      ],
      "metadata": {
        "id": "kei8eLKV6C37",
        "colab": {
          "base_uri": "https://localhost:8080/"
        },
        "outputId": "d9be430d-99a4-4f3f-d7da-05eae465c24f"
      },
      "execution_count": 2,
      "outputs": [
        {
          "output_type": "stream",
          "name": "stdout",
          "text": [
            "Looking in links: https://download.openmmlab.com/mmcv/dist/cu111/torch1.10.0/index.html\n",
            "Collecting mmcv-full\n",
            "  Downloading https://download.openmmlab.com/mmcv/dist/cu111/torch1.10.0/mmcv_full-1.5.0-cp37-cp37m-manylinux1_x86_64.whl (46.3 MB)\n",
            "\u001b[K     |████████████████████████████████| 46.3 MB 1.1 MB/s \n",
            "\u001b[?25hRequirement already satisfied: numpy in /usr/local/lib/python3.7/dist-packages (from mmcv-full) (1.21.6)\n",
            "Requirement already satisfied: Pillow in /usr/local/lib/python3.7/dist-packages (from mmcv-full) (7.1.2)\n",
            "Requirement already satisfied: pyyaml in /usr/local/lib/python3.7/dist-packages (from mmcv-full) (3.13)\n",
            "Requirement already satisfied: opencv-python>=3 in /usr/local/lib/python3.7/dist-packages (from mmcv-full) (4.1.2.30)\n",
            "Requirement already satisfied: packaging in /usr/local/lib/python3.7/dist-packages (from mmcv-full) (21.3)\n",
            "Collecting addict\n",
            "  Downloading addict-2.4.0-py3-none-any.whl (3.8 kB)\n",
            "Collecting yapf\n",
            "  Downloading yapf-0.32.0-py2.py3-none-any.whl (190 kB)\n",
            "\u001b[K     |████████████████████████████████| 190 kB 5.3 MB/s \n",
            "\u001b[?25hRequirement already satisfied: pyparsing!=3.0.5,>=2.0.2 in /usr/local/lib/python3.7/dist-packages (from packaging->mmcv-full) (3.0.8)\n",
            "Installing collected packages: yapf, addict, mmcv-full\n",
            "Successfully installed addict-2.4.0 mmcv-full-1.5.0 yapf-0.32.0\n"
          ]
        }
      ]
    },
    {
      "cell_type": "code",
      "source": [
        "!git clone https://github.com/Slava-git/mmsegmentation_swin\n",
        "%cd mmsegmentation_swin\n",
        "!pip install -e ."
      ],
      "metadata": {
        "id": "p4KwOXaz6EL7",
        "colab": {
          "base_uri": "https://localhost:8080/"
        },
        "outputId": "3e6d2f8c-d7b4-4716-a6f6-63cb15420418"
      },
      "execution_count": 3,
      "outputs": [
        {
          "output_type": "stream",
          "name": "stdout",
          "text": [
            "Cloning into 'mmsegmentation_swin'...\n",
            "remote: Enumerating objects: 6813, done.\u001b[K\n",
            "remote: Total 6813 (delta 0), reused 0 (delta 0), pack-reused 6813\u001b[K\n",
            "Receiving objects: 100% (6813/6813), 13.09 MiB | 25.48 MiB/s, done.\n",
            "Resolving deltas: 100% (5049/5049), done.\n",
            "/content/mmsegmentation_swin\n",
            "Obtaining file:///content/mmsegmentation_swin\n",
            "Requirement already satisfied: matplotlib in /usr/local/lib/python3.7/dist-packages (from mmsegmentation==0.23.0) (3.2.2)\n",
            "Collecting mmcls>=0.20.1\n",
            "  Downloading mmcls-0.23.0-py2.py3-none-any.whl (572 kB)\n",
            "\u001b[K     |████████████████████████████████| 572 kB 5.3 MB/s \n",
            "\u001b[?25hRequirement already satisfied: numpy in /usr/local/lib/python3.7/dist-packages (from mmsegmentation==0.23.0) (1.21.6)\n",
            "Requirement already satisfied: packaging in /usr/local/lib/python3.7/dist-packages (from mmsegmentation==0.23.0) (21.3)\n",
            "Requirement already satisfied: prettytable in /usr/local/lib/python3.7/dist-packages (from mmsegmentation==0.23.0) (3.2.0)\n",
            "Requirement already satisfied: kiwisolver>=1.0.1 in /usr/local/lib/python3.7/dist-packages (from matplotlib->mmsegmentation==0.23.0) (1.4.2)\n",
            "Requirement already satisfied: cycler>=0.10 in /usr/local/lib/python3.7/dist-packages (from matplotlib->mmsegmentation==0.23.0) (0.11.0)\n",
            "Requirement already satisfied: python-dateutil>=2.1 in /usr/local/lib/python3.7/dist-packages (from matplotlib->mmsegmentation==0.23.0) (2.8.2)\n",
            "Requirement already satisfied: pyparsing!=2.0.4,!=2.1.2,!=2.1.6,>=2.0.1 in /usr/local/lib/python3.7/dist-packages (from matplotlib->mmsegmentation==0.23.0) (3.0.8)\n",
            "Requirement already satisfied: typing-extensions in /usr/local/lib/python3.7/dist-packages (from kiwisolver>=1.0.1->matplotlib->mmsegmentation==0.23.0) (4.2.0)\n",
            "Requirement already satisfied: six>=1.5 in /usr/local/lib/python3.7/dist-packages (from python-dateutil>=2.1->matplotlib->mmsegmentation==0.23.0) (1.15.0)\n",
            "Requirement already satisfied: wcwidth in /usr/local/lib/python3.7/dist-packages (from prettytable->mmsegmentation==0.23.0) (0.2.5)\n",
            "Requirement already satisfied: importlib-metadata in /usr/local/lib/python3.7/dist-packages (from prettytable->mmsegmentation==0.23.0) (4.11.3)\n",
            "Requirement already satisfied: zipp>=0.5 in /usr/local/lib/python3.7/dist-packages (from importlib-metadata->prettytable->mmsegmentation==0.23.0) (3.8.0)\n",
            "Installing collected packages: mmcls, mmsegmentation\n",
            "  Running setup.py develop for mmsegmentation\n",
            "Successfully installed mmcls-0.23.0 mmsegmentation-0.23.0\n"
          ]
        }
      ]
    },
    {
      "cell_type": "markdown",
      "source": [
        "# Import dependencies"
      ],
      "metadata": {
        "id": "HUqrLPe87t9K"
      }
    },
    {
      "cell_type": "code",
      "source": [
        "import torch\n",
        "import torchvision\n",
        "import mmcv\n",
        "import cv2\n",
        "import matplotlib.pyplot as plt\n",
        "import os.path as osp\n",
        "import numpy as np\n",
        "import flask\n",
        "import time\n",
        "\n",
        "from flask import Flask, render_template, request\n",
        "from flask_ngrok import run_with_ngrok\n",
        "from mmcv import Config\n",
        "\n",
        "import mmseg\n",
        "from mmseg.apis import set_random_seed\n",
        "from mmseg.apis import inference_segmentor, init_segmentor, show_result_pyplot\n",
        "from mmseg.datasets.builder import DATASETS\n",
        "from mmseg.datasets.custom import CustomDataset"
      ],
      "metadata": {
        "id": "72KVpjtxqlgp"
      },
      "execution_count": 1,
      "outputs": []
    },
    {
      "cell_type": "markdown",
      "source": [
        "# Register dataset"
      ],
      "metadata": {
        "id": "G5AWvC0Bilbh"
      }
    },
    {
      "cell_type": "code",
      "source": [
        "classes = ('Background', 'Person')\n",
        "palette = [[0, 0, 0], [0, 128, 0]]"
      ],
      "metadata": {
        "id": "xL66zCUAqvRI"
      },
      "execution_count": 2,
      "outputs": []
    },
    {
      "cell_type": "code",
      "source": [
        "@DATASETS.register_module()\n",
        "class FullBodyDataset(CustomDataset):\n",
        "  CLASSES = classes\n",
        "  PALETTE = palette\n",
        "  def __init__(self, **kwargs):\n",
        "    super().__init__(img_suffix='.png', seg_map_suffix='.png',\n",
        "                    **kwargs)\n",
        "    assert osp.exists(self.img_dir)"
      ],
      "metadata": {
        "id": "e75cB6W-r2ef"
      },
      "execution_count": 3,
      "outputs": []
    },
    {
      "cell_type": "markdown",
      "source": [
        "# Connect to google drive"
      ],
      "metadata": {
        "id": "ZpEsXG6q8N0_"
      }
    },
    {
      "cell_type": "code",
      "source": [
        "%cd ../"
      ],
      "metadata": {
        "id": "CkUHibBr8j3t",
        "colab": {
          "base_uri": "https://localhost:8080/"
        },
        "outputId": "57b366d4-7979-45e3-977e-72c9b2d6b584"
      },
      "execution_count": 7,
      "outputs": [
        {
          "output_type": "stream",
          "name": "stdout",
          "text": [
            "/content\n"
          ]
        }
      ]
    },
    {
      "cell_type": "code",
      "source": [
        "from google.colab import drive\n",
        "drive.mount('/content/drive')"
      ],
      "metadata": {
        "id": "fjIxqBjM8nEF",
        "colab": {
          "base_uri": "https://localhost:8080/"
        },
        "outputId": "956866ec-8bf6-4cc0-d2f2-0d434ebd4350"
      },
      "execution_count": 9,
      "outputs": [
        {
          "output_type": "stream",
          "name": "stdout",
          "text": [
            "Mounted at /content/drive\n"
          ]
        }
      ]
    },
    {
      "cell_type": "code",
      "source": [
        "%cd mmsegmentation_swin"
      ],
      "metadata": {
        "id": "4ftRxNni2CuP",
        "colab": {
          "base_uri": "https://localhost:8080/"
        },
        "outputId": "4fdb71bd-08ef-4165-935a-8fc44e215fe7"
      },
      "execution_count": 4,
      "outputs": [
        {
          "output_type": "stream",
          "name": "stdout",
          "text": [
            "/content/mmsegmentation_swin\n"
          ]
        }
      ]
    },
    {
      "cell_type": "markdown",
      "source": [
        "# Config"
      ],
      "metadata": {
        "id": "YRNYj8gnnfCW"
      }
    },
    {
      "cell_type": "code",
      "source": [
        "cfg = Config.fromfile('configs/swin/'\\\n",
        "                      'upernet_swin_tiny_patch4_window7_512x512_160k_ade20k_pretrain_224x224_1K.py')"
      ],
      "metadata": {
        "id": "29Dex8yIsDVI"
      },
      "execution_count": 6,
      "outputs": []
    },
    {
      "cell_type": "code",
      "source": [
        "cfg.checkpoint_config.meta = dict(\n",
        "    CLASSES= classes,\n",
        "    PALETTE= palette)\n",
        "\n",
        "cfg.norm_cfg = dict(type='BN', requires_grad=True)\n",
        "#cfg.model.backbone.norm_cfg = cfg.norm_cfg\n",
        "cfg.model.decode_head.norm_cfg = cfg.norm_cfg\n",
        "cfg.model.auxiliary_head.norm_cfg = cfg.norm_cfg\n",
        "\n",
        "cfg.model.decode_head.num_classes = 2\n",
        "cfg.model.auxiliary_head.num_classes = 2\n",
        "dataset_type = 'FullBodyDataset'\n",
        "\n",
        "cfg.dataset_type = dataset_type\n",
        "cfg.data_root = '/content/drive/MyDrive/data/full_body_tik_tok'\n",
        "\n",
        "cfg.data.samples_per_gpu = 4\n",
        "cfg.data.workers_per_gpu = 4\n",
        "\n",
        "cfg.img_norm_cfg = dict(\n",
        "    mean=[123.675, 116.28, 103.53], std=[58.395, 57.12, 57.375], to_rgb=True)\n",
        "cfg.crop_size = (256, 256)\n",
        "cfg.train_pipeline = [\n",
        "    dict(type='LoadImageFromFile'),\n",
        "    dict(type='LoadAnnotations'),\n",
        "    dict(type='Resize', img_scale=(540, 960), ratio_range=(0.5, 2.0)),\n",
        "    dict(type='RandomCrop', crop_size=cfg.crop_size, cat_max_ratio=0.75),\n",
        "    dict(type='RandomFlip', flip_ratio=0.5),\n",
        "    dict(type='PhotoMetricDistortion'),\n",
        "    dict(type='Normalize', **cfg.img_norm_cfg),\n",
        "    dict(type='Pad', size=cfg.crop_size, pad_val=0, seg_pad_val=255),\n",
        "    dict(type='DefaultFormatBundle'),\n",
        "    dict(type='Collect', keys=['img', 'gt_semantic_seg']),\n",
        "]\n",
        "\n",
        "cfg.test_pipeline = [\n",
        "    dict(type='LoadImageFromFile'),\n",
        "    dict(\n",
        "        type='MultiScaleFlipAug',\n",
        "        img_scale=(540, 960),\n",
        "        flip=False,\n",
        "        transforms=[\n",
        "            dict(type='Resize', keep_ratio=True),\n",
        "            dict(type='RandomFlip'),\n",
        "            dict(type='Normalize', **cfg.img_norm_cfg),\n",
        "            dict(type='ImageToTensor', keys=['img']),\n",
        "            dict(type='Collect', keys=['img']),\n",
        "        ])\n",
        "]\n",
        "\n",
        "cfg.data.train.type = cfg.dataset_type\n",
        "cfg.data.train.data_root = cfg.data_root\n",
        "cfg.data.train.img_dir = 'images/training'\n",
        "cfg.data.train.ann_dir = 'annotations/training_1D'\n",
        "cfg.data.train.pipeline = cfg.train_pipeline\n",
        "\n",
        "cfg.data.val.type = cfg.dataset_type\n",
        "cfg.data.val.data_root = cfg.data_root\n",
        "cfg.data.val.img_dir = 'images/validation'\n",
        "cfg.data.val.ann_dir = 'annotations/validation_1D'\n",
        "cfg.data.val.pipeline = cfg.test_pipeline\n",
        "\n",
        "cfg.data.test.type = cfg.dataset_type\n",
        "cfg.data.test.data_root = cfg.data_root\n",
        "cfg.data.test.img_dir = 'images/validation'\n",
        "cfg.data.test.ann_dir = 'annotations/validation_1D'\n",
        "cfg.data.test.pipeline = cfg.test_pipeline\n",
        "\n",
        "cfg.load_from = '/content/checkpoints/swin_tiny_patch4_window7_224.pth'\n",
        "cfg.work_dir = '/content/drive/MyDrive/data/swin_dirs'\n",
        "\n",
        "cfg.runner.max_iters = 30000\n",
        "cfg.log_config.interval = 200\n",
        "cfg.evaluation.interval = 3000\n",
        "cfg.checkpoint_config.interval = 3000\n",
        "\n",
        "cfg.seed = 0\n",
        "set_random_seed(0, deterministic=False)\n",
        "cfg.gpu_ids = range(1)"
      ],
      "metadata": {
        "id": "CvObkv3pr6rH"
      },
      "execution_count": 7,
      "outputs": []
    },
    {
      "cell_type": "markdown",
      "source": [
        "# Flask "
      ],
      "metadata": {
        "id": "v6irt0_s4nA0"
      }
    },
    {
      "cell_type": "code",
      "source": [
        "checkpoint_file = '/content/drive/MyDrive/data/swin_dirs/iter_18000.pth'"
      ],
      "metadata": {
        "id": "lzyWDHj2rB8l"
      },
      "execution_count": 8,
      "outputs": []
    },
    {
      "cell_type": "code",
      "source": [
        "def make_predict(checkpoint_file, config_file, image):\n",
        "  '''\n",
        "  Get segmentation on input image\n",
        "\n",
        "  params:\n",
        "    checkpoint_file - file with weights\n",
        "    config_file - config file\n",
        "    image - path to image\n",
        "  \n",
        "  Returns:\n",
        "    predicted image\n",
        "  '''\n",
        "\n",
        "  model = init_segmentor(config_file, checkpoint_file, device='cuda:0')\n",
        "  result = inference_segmentor(model, image)\n",
        "  img = model.show_result(\n",
        "        image, result, palette=palette, show=False, opacity=0.5)\n",
        "  return img"
      ],
      "metadata": {
        "id": "MLIngHFu0vK3"
      },
      "execution_count": 17,
      "outputs": []
    },
    {
      "cell_type": "code",
      "source": [
        "image_folder = osp.join('static', 'images')\n",
        "app = Flask(__name__)\n",
        "run_with_ngrok(app)\n",
        "app.config[\"UPLOAD_FOLDER\"] = image_folder"
      ],
      "metadata": {
        "id": "a0xiPBjit1EL"
      },
      "execution_count": 22,
      "outputs": []
    },
    {
      "cell_type": "code",
      "source": [
        "@app.route('/', methods=['GET'])\n",
        "def home():\n",
        "  return render_template('index.html')\n",
        "\n",
        "@app.route('/', methods=['POST'])\n",
        "def predict():\n",
        "\n",
        "  imagefile = request.files['imagefile']\n",
        "  image_path = osp.join(image_folder, imagefile.filename)\n",
        "\n",
        "  imagefile.save(image_path)\n",
        "\n",
        "  input_im = osp.join(app.config['UPLOAD_FOLDER'], imagefile.filename)\n",
        "  predicted_im = make_predict(checkpoint_file, cfg, input_im)\n",
        "\n",
        "  path_pred_im = osp.join(app.config['UPLOAD_FOLDER'], 'out_'+imagefile.filename)\n",
        "  cv2.imwrite(path_pred_im, predicted_im)\n",
        "\n",
        "  time.sleep(1)\n",
        "  \n",
        "  return render_template('index.html', input_image=input_im, \n",
        "                         output_image= path_pred_im)"
      ],
      "metadata": {
        "id": "L0LRBzHPvWgz"
      },
      "execution_count": 23,
      "outputs": []
    },
    {
      "cell_type": "code",
      "source": [
        "if __name__=='__main__':\n",
        "  app.run()"
      ],
      "metadata": {
        "id": "Vi33MmuT4UwL"
      },
      "execution_count": null,
      "outputs": []
    },
    {
      "cell_type": "code",
      "source": [
        "# put your token\n",
        "!ngrok authtoken 25OVPfANFlrrKi0P95hTvzDxUKG_4Gv7J1btSjGuCTRLTAZoN"
      ],
      "metadata": {
        "colab": {
          "base_uri": "https://localhost:8080/"
        },
        "id": "KX2RRZUa4aL0",
        "outputId": "373183a2-1967-4632-c34b-96de15c7e250"
      },
      "execution_count": 17,
      "outputs": [
        {
          "output_type": "stream",
          "name": "stdout",
          "text": [
            "Authtoken saved to configuration file: /root/.ngrok2/ngrok.yml\n"
          ]
        }
      ]
    }
  ]
}